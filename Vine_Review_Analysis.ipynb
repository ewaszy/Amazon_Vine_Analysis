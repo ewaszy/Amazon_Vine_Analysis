{
  "nbformat": 4,
  "nbformat_minor": 0,
  "metadata": {
    "colab": {
      "name": "Vine_Review_Analysis.ipynb",
      "provenance": []
    },
    "kernelspec": {
      "name": "python3",
      "display_name": "Python 3"
    },
    "language_info": {
      "name": "python"
    }
  },
  "cells": [
    {
      "cell_type": "code",
      "metadata": {
        "colab": {
          "base_uri": "https://localhost:8080/"
        },
        "id": "R2MDK4bDvM72",
        "outputId": "a5105e25-7370-4f40-b705-9966337863c4"
      },
      "source": [
        "import os\n",
        "# Find the latest version of spark 3.0 from http://www.apache.org/dist/spark/ and enter as the spark version\n",
        "# For example:\n",
        "# spark_version = 'spark-3.0.3'\n",
        "spark_version = 'spark-3.0.3'\n",
        "os.environ['SPARK_VERSION']=spark_version\n",
        "\n",
        "# Install Spark and Java\n",
        "!apt-get update\n",
        "!apt-get install openjdk-11-jdk-headless -qq > /dev/null\n",
        "!wget -q http://www.apache.org/dist/spark/$SPARK_VERSION/$SPARK_VERSION-bin-hadoop2.7.tgz\n",
        "!tar xf $SPARK_VERSION-bin-hadoop2.7.tgz\n",
        "!pip install -q findspark\n",
        "\n",
        "# Set Environment Variables\n",
        "import os\n",
        "os.environ[\"JAVA_HOME\"] = \"/usr/lib/jvm/java-11-openjdk-amd64\"\n",
        "os.environ[\"SPARK_HOME\"] = f\"/content/{spark_version}-bin-hadoop2.7\"\n",
        "\n",
        "# Start a SparkSession\n",
        "import findspark\n",
        "findspark.init()"
      ],
      "execution_count": 2,
      "outputs": [
        {
          "output_type": "stream",
          "name": "stdout",
          "text": [
            "\r0% [Working]\r            \rHit:1 http://security.ubuntu.com/ubuntu bionic-security InRelease\n",
            "\r0% [Connecting to archive.ubuntu.com] [Connected to cloud.r-project.org (13.226\r0% [1 InRelease gpgv 88.7 kB] [Connecting to archive.ubuntu.com] [Connected to \r                                                                               \rIgn:2 https://developer.download.nvidia.com/compute/cuda/repos/ubuntu1804/x86_64  InRelease\n",
            "Hit:3 https://cloud.r-project.org/bin/linux/ubuntu bionic-cran40/ InRelease\n",
            "Ign:4 https://developer.download.nvidia.com/compute/machine-learning/repos/ubuntu1804/x86_64  InRelease\n",
            "Hit:5 https://developer.download.nvidia.com/compute/cuda/repos/ubuntu1804/x86_64  Release\n",
            "Hit:6 https://developer.download.nvidia.com/compute/machine-learning/repos/ubuntu1804/x86_64  Release\n",
            "Hit:7 http://ppa.launchpad.net/c2d4u.team/c2d4u4.0+/ubuntu bionic InRelease\n",
            "Hit:8 http://archive.ubuntu.com/ubuntu bionic InRelease\n",
            "Hit:9 http://ppa.launchpad.net/cran/libgit2/ubuntu bionic InRelease\n",
            "Get:10 http://archive.ubuntu.com/ubuntu bionic-updates InRelease [88.7 kB]\n",
            "Hit:11 http://ppa.launchpad.net/deadsnakes/ppa/ubuntu bionic InRelease\n",
            "Hit:13 http://ppa.launchpad.net/graphics-drivers/ppa/ubuntu bionic InRelease\n",
            "Get:14 http://archive.ubuntu.com/ubuntu bionic-backports InRelease [74.6 kB]\n",
            "Fetched 163 kB in 2s (66.7 kB/s)\n",
            "Reading package lists... Done\n"
          ]
        }
      ]
    },
    {
      "cell_type": "code",
      "metadata": {
        "colab": {
          "base_uri": "https://localhost:8080/"
        },
        "id": "08lBbBCzvUiR",
        "outputId": "29760277-3c47-4464-a707-cc78eaaba187"
      },
      "source": [
        "# Download the Postgres driver that will allow Spark to interact with Postgres.\n",
        "!wget https://jdbc.postgresql.org/download/postgresql-42.2.16.jar"
      ],
      "execution_count": 3,
      "outputs": [
        {
          "output_type": "stream",
          "name": "stdout",
          "text": [
            "--2021-11-24 02:21:30--  https://jdbc.postgresql.org/download/postgresql-42.2.16.jar\n",
            "Resolving jdbc.postgresql.org (jdbc.postgresql.org)... 72.32.157.228, 2001:4800:3e1:1::228\n",
            "Connecting to jdbc.postgresql.org (jdbc.postgresql.org)|72.32.157.228|:443... connected.\n",
            "HTTP request sent, awaiting response... 200 OK\n",
            "Length: 1002883 (979K) [application/java-archive]\n",
            "Saving to: ‘postgresql-42.2.16.jar’\n",
            "\n",
            "postgresql-42.2.16. 100%[===================>] 979.38K  --.-KB/s    in 0.09s   \n",
            "\n",
            "2021-11-24 02:21:31 (10.9 MB/s) - ‘postgresql-42.2.16.jar’ saved [1002883/1002883]\n",
            "\n"
          ]
        }
      ]
    },
    {
      "cell_type": "code",
      "metadata": {
        "id": "ZLR-knYUvUqf"
      },
      "source": [
        "from pyspark.sql import SparkSession\n",
        "spark = SparkSession.builder.appName(\"Amazon-Challenge\").config(\"spark.driver.extraClassPath\",\"/content/postgresql-42.2.16.jar\").getOrCreate()"
      ],
      "execution_count": 4,
      "outputs": []
    },
    {
      "cell_type": "code",
      "metadata": {
        "colab": {
          "base_uri": "https://localhost:8080/"
        },
        "id": "4vEPU7GFvUvS",
        "outputId": "08518ae9-eae3-4f35-e430-92e440ff8e79"
      },
      "source": [
        "# Extract the dataset from Deliverable 1\n",
        "from pyspark import SparkFiles\n",
        "url = \"https://s3.amazonaws.com/amazon-reviews-pds/tsv/amazon_reviews_us_Home_v1_00.tsv.gz\"\n",
        "spark.sparkContext.addFile(url)\n",
        "df = spark.read.option(\"encoding\", \"UTF-8\").csv(SparkFiles.get(\"amazon_reviews_us_Home_v1_00.tsv.gz\"), sep=\"\\t\", header=True, inferSchema=True)\n",
        "df.show()"
      ],
      "execution_count": 5,
      "outputs": [
        {
          "output_type": "stream",
          "name": "stdout",
          "text": [
            "+-----------+-----------+--------------+----------+--------------+--------------------+----------------+-----------+-------------+-----------+----+-----------------+--------------------+--------------------+-----------+\n",
            "|marketplace|customer_id|     review_id|product_id|product_parent|       product_title|product_category|star_rating|helpful_votes|total_votes|vine|verified_purchase|     review_headline|         review_body|review_date|\n",
            "+-----------+-----------+--------------+----------+--------------+--------------------+----------------+-----------+-------------+-----------+----+-----------------+--------------------+--------------------+-----------+\n",
            "|         US|   33670092|R1UUISQ1GKOJTI|B00EE62UAE|     583436067|Trademark Home Po...|            Home|          1|            0|          0|   N|                Y|                 Run|Don't buy it clap...| 2015-08-31|\n",
            "|         US|   13726692|R1HOJ9WE8VCVOD|B001APXO5C|     465035091|O2-Cool 10-Inch P...|            Home|          5|            9|          9|   N|                Y|Love it, really c...|Love this ,I boug...| 2015-08-31|\n",
            "|         US|   50131396| RDNGVXMWQN2TN|B002HFDLCK|     136507891|Hoover Vacuum Cle...|            Home|          5|            0|          0|   N|                Y|          Five Stars|Nice style, color...| 2015-08-31|\n",
            "|         US|   16046884|R3OM9COQMVTDJ2|B00PL9EFPQ|     631238459|Banksy Pile of Ri...|            Home|          2|            0|          0|   N|                Y|Love Banksy's wor...|Meeeh. Love Banks...| 2015-08-31|\n",
            "|         US|   11417282|R3OFUQVR4Y80Q9|B00B5TPVQS|     190431573|SkyScan Atomic Wa...|            Home|          4|            0|          0|   N|                N|A silent second h...|Review by John Cr...| 2015-08-31|\n",
            "|         US|   48013430|R2GD25SBBGRKPO|B00NQDGHDC|     124050883|Mellanni Bed Shee...|            Home|          5|            0|          0|   N|                Y|I am very pleased...|I am very pleased...| 2015-08-31|\n",
            "|         US|    7341516|R3RRSLYKVWH9WB|B00I3BYEXM|     933053612|Hippie Hobo Sling...|            Home|          5|            0|          0|   N|                Y|          Five Stars|LOVE THIS SO VERY...| 2015-08-31|\n",
            "|         US|   20696954|R2HMFAGJJU6NT3|B008QZD7RY|      77515396|OluKai Hokua Sand...|            Home|          5|            0|          0|   N|                Y|          Five Stars|           Love them| 2015-08-31|\n",
            "|         US|   28241302|R2QDRZATHBY4GY|B00TQ6MXE0|     267158600|Melrose Ivory Ant...|            Home|          1|            0|          0|   N|                Y|Not the color I e...|This is a nice sh...| 2015-08-31|\n",
            "|         US|   45444347|R107946YZK57Q2|B004O39RJ4|     473994651|Home Basics 6-Pie...|            Home|          2|            0|          0|   N|                Y|Two mugs came chi...|Two mugs came chi...| 2015-08-31|\n",
            "|         US|   15080335|R31EK6FUI5YAL1|B003LZ09C0|     945333576|La Crosse Technol...|            Home|          5|            0|          0|   N|                Y|          Five Stars|Works great, it a...| 2015-08-31|\n",
            "|         US|   12081067|R2PCO0R2FKDQLD|B00I56KQV4|     383995956|Cozy Beddings 3-P...|            Home|          5|            0|          0|   N|                Y|          Five Stars|Exactly as I expe...| 2015-08-31|\n",
            "|         US|   26317120|R3HR2Y7RR8NWL0|B00GS6ENAS|     255999883|Tools of the Trad...|            Home|          4|            0|          0|   N|                Y|          Four Stars|    met expectations| 2015-08-31|\n",
            "|         US|   37523392|R2D2NATNTV6VBD|B00S9X17SY|     142926812|Clara Clark Premi...|            Home|          3|            0|          0|   N|                Y|        Pretty color|Very silky feelin...| 2015-08-31|\n",
            "|         US|   36990227| RKB0AGB0GJ693|B001R1RXUG|     237680897|Honeywell HT-908 ...|            Home|          5|            0|          0|   N|                Y|          Five Stars|Works great for t...| 2015-08-31|\n",
            "|         US|    8273344| RN6VOEZIS9SRX|B008T19WSS|     395315543|2 pcs .925 Sterli...|            Home|          5|            0|          0|   N|                Y|          Five Stars|          love these| 2015-08-31|\n",
            "|         US|   45448526|R31I8XK53JBAQ2|B011A4X754|     751900773|Artficial Pachyve...|            Home|          4|            0|          0|   N|                Y|          Four Stars|Good length. Very...| 2015-08-31|\n",
            "|         US|   28088591|R2R2Y989GKB6QH|B00DDIKBQO|     764331420|Pinzon Blackout C...|            Home|          5|            0|          0|   N|                Y|          Five Stars|        Works great!| 2015-08-31|\n",
            "|         US|   20276397|R12WZKURAV2VEY|B00F3T165Q|     962537263|Rit Dye Liquid Dy...|            Home|          5|            0|          0|   N|                Y|            Love it!|Been using this f...| 2015-08-31|\n",
            "|         US|     123327| RX2EMR0I821HW|B006C6FC6S|     279696452|The Original Slee...|            Home|          2|            0|          0|   N|                Y|           Two Stars|Ehh. Not sure why...| 2015-08-31|\n",
            "+-----------+-----------+--------------+----------+--------------+--------------------+----------------+-----------+-------------+-----------+----+-----------------+--------------------+--------------------+-----------+\n",
            "only showing top 20 rows\n",
            "\n"
          ]
        }
      ]
    },
    {
      "cell_type": "code",
      "metadata": {
        "colab": {
          "base_uri": "https://localhost:8080/"
        },
        "id": "BhaYakmDvUzc",
        "outputId": "729d4933-7eda-46ec-b8f6-bf493d7dc43d"
      },
      "source": [
        "# Re-create the vine_table dataframe\n",
        "# vine_df = df.select([])\n",
        "\n",
        "# Datatypes from SQL from pgAdmin\n",
        "#CREATE TABLE vine_table (\n",
        "#  review_id TEXT PRIMARY KEY,\n",
        "#  star_rating INTEGER,\n",
        "#  helpful_votes INTEGER,\n",
        "#  total_votes INTEGER,\n",
        "#  vine TEXT,\n",
        "#  verified_purchase TEXT\n",
        "\n",
        "vine_df = df.select(['review_id','star_rating','helpful_votes','total_votes','vine','verified_purchase'])\n",
        "vine_df.show()"
      ],
      "execution_count": 7,
      "outputs": [
        {
          "output_type": "stream",
          "name": "stdout",
          "text": [
            "+--------------+-----------+-------------+-----------+----+-----------------+\n",
            "|     review_id|star_rating|helpful_votes|total_votes|vine|verified_purchase|\n",
            "+--------------+-----------+-------------+-----------+----+-----------------+\n",
            "|R1UUISQ1GKOJTI|          1|            0|          0|   N|                Y|\n",
            "|R1HOJ9WE8VCVOD|          5|            9|          9|   N|                Y|\n",
            "| RDNGVXMWQN2TN|          5|            0|          0|   N|                Y|\n",
            "|R3OM9COQMVTDJ2|          2|            0|          0|   N|                Y|\n",
            "|R3OFUQVR4Y80Q9|          4|            0|          0|   N|                N|\n",
            "|R2GD25SBBGRKPO|          5|            0|          0|   N|                Y|\n",
            "|R3RRSLYKVWH9WB|          5|            0|          0|   N|                Y|\n",
            "|R2HMFAGJJU6NT3|          5|            0|          0|   N|                Y|\n",
            "|R2QDRZATHBY4GY|          1|            0|          0|   N|                Y|\n",
            "|R107946YZK57Q2|          2|            0|          0|   N|                Y|\n",
            "|R31EK6FUI5YAL1|          5|            0|          0|   N|                Y|\n",
            "|R2PCO0R2FKDQLD|          5|            0|          0|   N|                Y|\n",
            "|R3HR2Y7RR8NWL0|          4|            0|          0|   N|                Y|\n",
            "|R2D2NATNTV6VBD|          3|            0|          0|   N|                Y|\n",
            "| RKB0AGB0GJ693|          5|            0|          0|   N|                Y|\n",
            "| RN6VOEZIS9SRX|          5|            0|          0|   N|                Y|\n",
            "|R31I8XK53JBAQ2|          4|            0|          0|   N|                Y|\n",
            "|R2R2Y989GKB6QH|          5|            0|          0|   N|                Y|\n",
            "|R12WZKURAV2VEY|          5|            0|          0|   N|                Y|\n",
            "| RX2EMR0I821HW|          2|            0|          0|   N|                Y|\n",
            "+--------------+-----------+-------------+-----------+----+-----------------+\n",
            "only showing top 20 rows\n",
            "\n"
          ]
        }
      ]
    },
    {
      "cell_type": "code",
      "metadata": {
        "colab": {
          "base_uri": "https://localhost:8080/"
        },
        "id": "0_FleQ55vU3i",
        "outputId": "8286b2cf-94f0-4cb9-8ccb-a1177d77c830"
      },
      "source": [
        "# Filter data & create new dataframe where total_votes >= 20\n",
        "# df.filter((df.d<5)& (df.col2!=df.col4) & (df.col1==df.col3)).show()\n",
        "\n",
        "vine_over20votes_df = vine_df.filter((vine_df.total_votes>=20))\n",
        "vine_over20votes_df.sort('total_votes').show()"
      ],
      "execution_count": 9,
      "outputs": [
        {
          "output_type": "stream",
          "name": "stdout",
          "text": [
            "+--------------+-----------+-------------+-----------+----+-----------------+\n",
            "|     review_id|star_rating|helpful_votes|total_votes|vine|verified_purchase|\n",
            "+--------------+-----------+-------------+-----------+----+-----------------+\n",
            "| RC0MC0797AI8K|          4|           20|         20|   N|                Y|\n",
            "|R15PS4LQA8LYWA|          1|           17|         20|   N|                Y|\n",
            "| RHBNOJACKQ0CW|          5|           20|         20|   N|                Y|\n",
            "|R1OI8MK5A9ALPW|          1|           14|         20|   N|                Y|\n",
            "| RHK4VGSHBVOT4|          5|           19|         20|   N|                N|\n",
            "|R1E71VRDB4EMQX|          2|           16|         20|   N|                Y|\n",
            "|R2RHKSK8O6KDNS|          5|           20|         20|   N|                Y|\n",
            "|R2TS8H10UI4FTO|          2|           20|         20|   N|                Y|\n",
            "|R1F0JQTAJWKFZ1|          1|            2|         20|   N|                Y|\n",
            "|R2TMA4BRGBYGYI|          4|           18|         20|   N|                Y|\n",
            "| RK0A5WGZOWCD0|          1|           20|         20|   N|                Y|\n",
            "|R2QP4PVKEBCUOR|          4|           18|         20|   N|                Y|\n",
            "|R3STEAIY9N5UYK|          4|           18|         20|   N|                Y|\n",
            "|R1LW89VODARZY6|          5|           19|         20|   N|                Y|\n",
            "|R2J0S4G67152HO|          3|           19|         20|   N|                Y|\n",
            "|R1HL58K593I051|          3|           20|         20|   N|                Y|\n",
            "|R3FTTNEXNKQ2AJ|          2|           17|         20|   N|                Y|\n",
            "|R1CRT7I45H58IK|          5|           18|         20|   N|                N|\n",
            "|R2EDWLSCWHLSYC|          5|           19|         20|   N|                Y|\n",
            "| R54Z28UMFK0O1|          5|           20|         20|   N|                Y|\n",
            "+--------------+-----------+-------------+-----------+----+-----------------+\n",
            "only showing top 20 rows\n",
            "\n"
          ]
        }
      ]
    },
    {
      "cell_type": "code",
      "metadata": {
        "colab": {
          "base_uri": "https://localhost:8080/"
        },
        "id": "7asL4a_2vU7j",
        "outputId": "8cb73bcd-f413-4f08-f367-3f265f93a796"
      },
      "source": [
        "# Filter vine_over20votes_df where # helpful_votes / total_votes >= 50%\n",
        "\n",
        "vine_helpfulvotes_df = vine_vote_over20_df.filter( ( vine_over20votes_df.helpful_votes / vine_over20votes_df.total_votes ) >= 0.5 )\n",
        "vine_helpfulvotes_df.sort('total_votes').show()"
      ],
      "execution_count": 10,
      "outputs": [
        {
          "output_type": "stream",
          "name": "stdout",
          "text": [
            "+--------------+-----------+-------------+-----------+----+-----------------+\n",
            "|     review_id|star_rating|helpful_votes|total_votes|vine|verified_purchase|\n",
            "+--------------+-----------+-------------+-----------+----+-----------------+\n",
            "| RHBNOJACKQ0CW|          5|           20|         20|   N|                Y|\n",
            "|R14UUFAZJJJCGZ|          1|           14|         20|   N|                N|\n",
            "| RHK4VGSHBVOT4|          5|           19|         20|   N|                N|\n",
            "| RC0MC0797AI8K|          4|           20|         20|   N|                Y|\n",
            "|R2RHKSK8O6KDNS|          5|           20|         20|   N|                Y|\n",
            "|R1OI8MK5A9ALPW|          1|           14|         20|   N|                Y|\n",
            "| RK0A5WGZOWCD0|          1|           20|         20|   N|                Y|\n",
            "|R193XSALMROWTB|          5|           19|         20|   N|                Y|\n",
            "|R3STEAIY9N5UYK|          4|           18|         20|   N|                Y|\n",
            "|R2TS8H10UI4FTO|          2|           20|         20|   N|                Y|\n",
            "|R2J0S4G67152HO|          3|           19|         20|   N|                Y|\n",
            "|R2QP4PVKEBCUOR|          4|           18|         20|   N|                Y|\n",
            "|R3FTTNEXNKQ2AJ|          2|           17|         20|   N|                Y|\n",
            "| R9KFH20LOQKQS|          5|           20|         20|   N|                Y|\n",
            "|R2EDWLSCWHLSYC|          5|           19|         20|   N|                Y|\n",
            "| R5RCBGMVKPZD2|          2|           20|         20|   N|                Y|\n",
            "|R1125VF8D6ZFI0|          2|           20|         20|   N|                Y|\n",
            "|R1GHMENFESPOMQ|          5|           20|         20|   N|                N|\n",
            "| R54Z28UMFK0O1|          5|           20|         20|   N|                Y|\n",
            "|R1XWLHJ0GM8AEU|          5|           19|         20|   N|                Y|\n",
            "+--------------+-----------+-------------+-----------+----+-----------------+\n",
            "only showing top 20 rows\n",
            "\n"
          ]
        }
      ]
    },
    {
      "cell_type": "code",
      "metadata": {
        "colab": {
          "base_uri": "https://localhost:8080/"
        },
        "id": "Ar2SOaLlvU_B",
        "outputId": "727ba0f5-540a-46ff-88d6-716e84302bea"
      },
      "source": [
        "# Filter vine_helpfulvotes_df to only include instances where review was written as part of Vine program (paid) (vine == 'Y')\n",
        "vine_paid_df = vine_helpfulvotes_df.filter(  vine_helpfulvotes_df.vine == 'Y' )\n",
        "vine_paid_df.sort('total_votes').show()"
      ],
      "execution_count": 12,
      "outputs": [
        {
          "output_type": "stream",
          "name": "stdout",
          "text": [
            "+--------------+-----------+-------------+-----------+----+-----------------+\n",
            "|     review_id|star_rating|helpful_votes|total_votes|vine|verified_purchase|\n",
            "+--------------+-----------+-------------+-----------+----+-----------------+\n",
            "|R2GDI32JVTNQM5|          1|           16|         20|   Y|                N|\n",
            "|R2S1WGA8JCN9UT|          4|           15|         20|   Y|                N|\n",
            "| RRKJH61ECNQ7P|          5|           16|         20|   Y|                N|\n",
            "|R3H90SV50CNOTV|          5|           17|         20|   Y|                N|\n",
            "|R3TJXGBHPZ10IQ|          4|           20|         20|   Y|                N|\n",
            "|R297B2740YOVXY|          5|           20|         20|   Y|                N|\n",
            "|R3NJTPBICFJCIU|          1|           19|         20|   Y|                N|\n",
            "|R15AGK9M9WTFVY|          4|           15|         20|   Y|                N|\n",
            "|R3PHHUAFTNHJOZ|          5|           18|         20|   Y|                N|\n",
            "| RNWGFOFNAN8F2|          5|           20|         20|   Y|                N|\n",
            "|R2V5GTH69KB58Z|          1|           18|         20|   Y|                N|\n",
            "|R2NBWOYDU73HD4|          5|           19|         20|   Y|                N|\n",
            "|R2FY99SW1897LR|          4|           16|         20|   Y|                N|\n",
            "|R1DZWQDGPT4V1W|          5|           20|         20|   Y|                N|\n",
            "|R1T9ISBVYZEGTY|          5|           18|         20|   Y|                N|\n",
            "|R2N5OZJ7ZWQ1T1|          4|           18|         20|   Y|                N|\n",
            "|R2VRT4AFA9FKLM|          5|           18|         20|   Y|                N|\n",
            "|R3J05NH9N46G9L|          3|           20|         20|   Y|                N|\n",
            "|R1M7KY1CAMX1UY|          4|           16|         20|   Y|                N|\n",
            "|R3ND6IAO5A16UZ|          5|           15|         20|   Y|                N|\n",
            "+--------------+-----------+-------------+-----------+----+-----------------+\n",
            "only showing top 20 rows\n",
            "\n"
          ]
        }
      ]
    },
    {
      "cell_type": "code",
      "metadata": {
        "colab": {
          "base_uri": "https://localhost:8080/"
        },
        "id": "JvOGfoFRykx_",
        "outputId": "336aa6c0-7e42-4c1e-e0ad-bc5eb5794a8d"
      },
      "source": [
        "# Filter vine_helpfulvotes_df to only include instances where review was NOT written as part of Vine program (unpaid) (vine == 'N')\n",
        "vine_unpaid_df = vine_helpfulvotes_df.filter(  vine_helpfulvotes_df.vine == 'N' )\n",
        "vine_unpaid_df.sort('total_votes').show()"
      ],
      "execution_count": 13,
      "outputs": [
        {
          "output_type": "stream",
          "name": "stdout",
          "text": [
            "+--------------+-----------+-------------+-----------+----+-----------------+\n",
            "|     review_id|star_rating|helpful_votes|total_votes|vine|verified_purchase|\n",
            "+--------------+-----------+-------------+-----------+----+-----------------+\n",
            "| RC0MC0797AI8K|          4|           20|         20|   N|                Y|\n",
            "|R1OCFMKI32AJ5G|          5|           16|         20|   N|                Y|\n",
            "| RHBNOJACKQ0CW|          5|           20|         20|   N|                Y|\n",
            "|R1OI8MK5A9ALPW|          1|           14|         20|   N|                Y|\n",
            "| RHK4VGSHBVOT4|          5|           19|         20|   N|                N|\n",
            "|R193XSALMROWTB|          5|           19|         20|   N|                Y|\n",
            "|R2RHKSK8O6KDNS|          5|           20|         20|   N|                Y|\n",
            "|R3GU53VLHGWU0W|          5|           20|         20|   N|                Y|\n",
            "| RK0A5WGZOWCD0|          1|           20|         20|   N|                Y|\n",
            "|R3QGCAXCQB9CYD|          5|           18|         20|   N|                N|\n",
            "|R3STEAIY9N5UYK|          4|           18|         20|   N|                Y|\n",
            "|R1LW89VODARZY6|          5|           19|         20|   N|                Y|\n",
            "|R2J0S4G67152HO|          3|           19|         20|   N|                Y|\n",
            "|R1HL58K593I051|          3|           20|         20|   N|                Y|\n",
            "|R3FTTNEXNKQ2AJ|          2|           17|         20|   N|                Y|\n",
            "|R1CRT7I45H58IK|          5|           18|         20|   N|                N|\n",
            "|R2EDWLSCWHLSYC|          5|           19|         20|   N|                Y|\n",
            "| R54Z28UMFK0O1|          5|           20|         20|   N|                Y|\n",
            "|R1UTHMA98VYABQ|          3|           18|         20|   N|                Y|\n",
            "|R1E71VRDB4EMQX|          2|           16|         20|   N|                Y|\n",
            "+--------------+-----------+-------------+-----------+----+-----------------+\n",
            "only showing top 20 rows\n",
            "\n"
          ]
        }
      ]
    },
    {
      "cell_type": "code",
      "metadata": {
        "id": "uizMxUI3yk7a"
      },
      "source": [
        "#For both paid and unpaid reviews, determine:\n",
        "#1) Total number of reviews\n",
        "vine_paid_Total = vine_paid_df.count()\n",
        "vine_unpaid_Total = vine_unpaid_df.count()\n",
        "\n",
        "#2) Number of 5-star reviews\n",
        "vine_paid_5star_Total = vine_paid_df.filter(vine_paid_df.star_rating == '5').count()\n",
        "vine_unpaid_5star_Total = vine_unpaid_df.filter(vine_unpaid_df.star_rating == '5').count()\n",
        "\n",
        "#3) Percent of 5-star reviews\n",
        "vine_paid_5star_percent = ( vine_paid_5star_Total / vine_paid_Total ) * 100\n",
        "vine_unpaid_5star_percent = ( vine_unpaid_5star_Total / vine_unpaid_Total ) * 100"
      ],
      "execution_count": 18,
      "outputs": []
    },
    {
      "cell_type": "code",
      "metadata": {
        "colab": {
          "base_uri": "https://localhost:8080/"
        },
        "id": "a5veRT7k1i5Z",
        "outputId": "a220c28b-9ea6-415a-cb1e-134e83fc6a70"
      },
      "source": [
        "print('Vine Paid Reviews')\n",
        "print('Total 5-Star Reviews for Vine Paid Subscribers is ' + str(vine_paid_5star_Total))\n",
        "print('Total Reviews for Vine Paid Subscribers is ' + str(vine_paid_Total))\n",
        "print('Percentage of 5-Star Paid Reviews: ' + str(round(vine_paid_5star_percent,2)) + '%')\n",
        "print('****************************************************************')\n",
        "print('Vine Un-Paid Reviews')\n",
        "print('Total 5-Star Reviews is ' + str(vine_unpaid_5star_Total))\n",
        "print('Total Reviews is ' + str(vine_unpaid_Total))\n",
        "print('Percentage of 5-Star Unpaid Reviews: ' + str(round(vine_unpaid_5star_percent,2)) + '%')"
      ],
      "execution_count": 20,
      "outputs": [
        {
          "output_type": "stream",
          "name": "stdout",
          "text": [
            "Vine Paid Reviews\n",
            "Total 5-Star Reviews for Vine Paid Subscribers is 647\n",
            "Total Reviews for Vine Paid Subscribers is 1448\n",
            "Percentage of 5-Star Paid Reviews: 44.68%\n",
            "****************************************************************\n",
            "Vine Un-Paid Reviews\n",
            "Total 5-Star Reviews is 44104\n",
            "Total Reviews is 90768\n",
            "Percentage of 5-Star Unpaid Reviews: 48.59%\n"
          ]
        }
      ]
    }
  ]
}