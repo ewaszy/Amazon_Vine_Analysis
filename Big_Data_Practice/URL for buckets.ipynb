{
  "nbformat": 4,
  "nbformat_minor": 0,
  "metadata": {
    "colab": {
      "name": "Untitled0.ipynb",
      "provenance": []
    },
    "kernelspec": {
      "name": "python3",
      "display_name": "Python 3"
    },
    "language_info": {
      "name": "python"
    }
  },
  "cells": [
    {
      "cell_type": "code",
      "metadata": {
        "id": "FFoAEQQBytja"
      },
      "source": [
        "#template_url = \"https://<bucket-name>.s3.amazonaws.com/<folder-name>/<file-name>\"\n",
        "\n",
        "my_url = \"https://<ewaszy-bucket>.s3.amazonaws.com/Desktop/Data Bootcamp/Analyses/Austin_Housing_Market/Resources/austin_df\"\n",
        "\n",
        "#example_url = \"https://dataviz-curriculum.s3.amazonaws.com/data-folder/data.csv\""
      ],
      "execution_count": 4,
      "outputs": []
    },
    {
      "cell_type": "code",
      "metadata": {
        "id": "hkst8hrFyzGh"
      },
      "source": [
        "#SKILL DRILL\n",
        "#Load in a dataset to one of your S3 buckets, and then, using Google Colab, load in your dataset to a DataFrame."
      ],
      "execution_count": 6,
      "outputs": []
    },
    {
      "cell_type": "code",
      "metadata": {
        "id": "zj1SjIax2Ok3"
      },
      "source": [
        ""
      ],
      "execution_count": null,
      "outputs": []
    }
  ]
}